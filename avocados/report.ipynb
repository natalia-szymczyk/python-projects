{
 "cells": [
  {
   "cell_type": "markdown",
   "id": "boolean-infrared",
   "metadata": {},
   "source": [
    "<u style=\"font-size: 35px;\"> Statystyka i analiza danych </u>\n",
    "## Raport z badania statystycznego - ceny awokado\n",
    "#### Natalia Szymczyk, 145250, I8.2\n"
   ]
  },
  {
   "cell_type": "markdown",
   "id": "respective-guitar",
   "metadata": {},
   "source": [
    "## Wprowadzenie\n",
    "\n",
    "W tym raporcie przeanalizuję zbiór danych dotyczący cen awokado. Tabela przedstawia cotygodniowe pomiary zebrane w latach 2015-2018, które pochodzą bezpośrednio z kas sklepowych i odzwierciedlają faktyczną sprzedaż detaliczną awokado Hass. \n",
    "\n",
    "Dane pochodzą ze strony internetowej Hass Avocado Board, która zajmuje się badaniamy branżowymi związanymi z owocem awokado odmiany Hass. Umieszczone zostały również na platformie kaggle.\n",
    "Będą one dla mnie stanowić populację generalną. W dalszej części raportu stworzę na ich podstawie próbę losową, którą również przeanalizuję.\n",
    "\n",
    "Badane parametry oraz ich właściwości przedstawiają się następująco: \n",
    "\n",
    "| Nazwa zmiennej | Znaczenie zmiennej                         |Typ zmiennej          | Skala pomiarowa |\n",
    "|---------------|---------------------------------------------|----------------------|-------------\n",
    "| Average Price | Średnia cena pojedynczej sztuki awokado     | ilościowa ciągła     | ilorazowa\n",
    "| Type          | Typ (Standardowe lub organiczne)            | jakościowa nominalna | nominalna\n",
    "| Year          | Rok                                         | ilościowa dyskretna  | interwałowa\n",
    "| Region        | Region obserwacji                           | jakościowa nominalna | nominalna\n",
    "| Total Volume  | Całkowita liczba sprzedanych sztuk awokado  | ilościowa dyskretna  | ilorazowa\n",
    "| PLU4046          | Liczba sprzedanych awokado z kodem PLU 4046 | ilościowa dyskretna  | ilorazowa\n",
    "| PLU4225          | Liczba sprzedanych awokado z kodem PLU 4225 | ilościowa dyskretna  | ilorazowa\n",
    "| PLU4770          | Liczba sprzedanych awokado z kodem PLU 4770 | ilościowa dyskretna  | ilorazowa\n",
    "\n",
    "\n",
    "\n",
    "Test statystyczny przeprowadzę dla parametru _Average Price_ - średniej ceny pojedynczej sztuki.\n",
    "\n",
    "<!-- opis problemu, co jest populacją generalną, co jest badaną cechą, typ badanej cechy, którego parametru rozkładu będzie dotyczyć test -->\n"
   ]
  },
  {
   "cell_type": "markdown",
   "id": "honest-warren",
   "metadata": {},
   "source": [
    "<!-- Próba losowa, w tym: pochodzenie danych, rozmiar próby, sposób pobrania próby, uzasadnienie rozmiaru próby.  -->"
   ]
  },
  {
   "cell_type": "code",
   "execution_count": 66,
   "id": "discrete-campbell",
   "metadata": {},
   "outputs": [],
   "source": [
    "library(corrplot)\n",
    "library(ggplot2)\n",
    "library(GGally)"
   ]
  },
  {
   "cell_type": "code",
   "execution_count": 5,
   "id": "productive-arlington",
   "metadata": {},
   "outputs": [],
   "source": [
    "data <- read.csv(\"avocado.csv\", sep = \";\")\n",
    "data2 <- read.csv(\"avocado_numeric.csv\", sep = \";\")"
   ]
  },
  {
   "cell_type": "markdown",
   "id": "promotional-canal",
   "metadata": {},
   "source": [
    "## Statystyki opisowe dla populacji\n",
    "\n",
    "Informacje na temat tabeli danych oraz kilka początkowych rekordów: "
   ]
  },
  {
   "cell_type": "code",
   "execution_count": 6,
   "id": "horizontal-shareware",
   "metadata": {},
   "outputs": [
    {
     "name": "stdout",
     "output_type": "stream",
     "text": [
      "Liczba obserwacji:  18249 \n",
      "Liczba zmiennych:  9 \n"
     ]
    },
    {
     "data": {
      "text/html": [
       "<table class=\"dataframe\">\n",
       "<caption>A data.frame: 6 × 9</caption>\n",
       "<thead>\n",
       "\t<tr><th></th><th scope=col>X</th><th scope=col>average_price</th><th scope=col>total_volume</th><th scope=col>PLU4046</th><th scope=col>PLU4225</th><th scope=col>PLU4770</th><th scope=col>type</th><th scope=col>year</th><th scope=col>region</th></tr>\n",
       "\t<tr><th></th><th scope=col>&lt;int&gt;</th><th scope=col>&lt;dbl&gt;</th><th scope=col>&lt;dbl&gt;</th><th scope=col>&lt;dbl&gt;</th><th scope=col>&lt;dbl&gt;</th><th scope=col>&lt;dbl&gt;</th><th scope=col>&lt;chr&gt;</th><th scope=col>&lt;int&gt;</th><th scope=col>&lt;chr&gt;</th></tr>\n",
       "</thead>\n",
       "<tbody>\n",
       "\t<tr><th scope=row>1</th><td>0</td><td>1.33</td><td> 64236.62</td><td>1036.74</td><td> 54454.85</td><td> 48.16</td><td>conventional</td><td>2015</td><td>Albany</td></tr>\n",
       "\t<tr><th scope=row>2</th><td>1</td><td>1.35</td><td> 54876.98</td><td> 674.28</td><td> 44638.81</td><td> 58.33</td><td>conventional</td><td>2015</td><td>Albany</td></tr>\n",
       "\t<tr><th scope=row>3</th><td>2</td><td>0.93</td><td>118220.22</td><td> 794.70</td><td>109149.67</td><td>130.50</td><td>conventional</td><td>2015</td><td>Albany</td></tr>\n",
       "\t<tr><th scope=row>4</th><td>3</td><td>1.08</td><td> 78992.15</td><td>1132.00</td><td> 71976.41</td><td> 72.58</td><td>conventional</td><td>2015</td><td>Albany</td></tr>\n",
       "\t<tr><th scope=row>5</th><td>4</td><td>1.28</td><td> 51039.60</td><td> 941.48</td><td> 43838.39</td><td> 75.78</td><td>conventional</td><td>2015</td><td>Albany</td></tr>\n",
       "\t<tr><th scope=row>6</th><td>5</td><td>1.26</td><td> 55979.78</td><td>1184.27</td><td> 48067.99</td><td> 43.61</td><td>conventional</td><td>2015</td><td>Albany</td></tr>\n",
       "</tbody>\n",
       "</table>\n"
      ],
      "text/latex": [
       "A data.frame: 6 × 9\n",
       "\\begin{tabular}{r|lllllllll}\n",
       "  & X & average\\_price & total\\_volume & PLU4046 & PLU4225 & PLU4770 & type & year & region\\\\\n",
       "  & <int> & <dbl> & <dbl> & <dbl> & <dbl> & <dbl> & <chr> & <int> & <chr>\\\\\n",
       "\\hline\n",
       "\t1 & 0 & 1.33 &  64236.62 & 1036.74 &  54454.85 &  48.16 & conventional & 2015 & Albany\\\\\n",
       "\t2 & 1 & 1.35 &  54876.98 &  674.28 &  44638.81 &  58.33 & conventional & 2015 & Albany\\\\\n",
       "\t3 & 2 & 0.93 & 118220.22 &  794.70 & 109149.67 & 130.50 & conventional & 2015 & Albany\\\\\n",
       "\t4 & 3 & 1.08 &  78992.15 & 1132.00 &  71976.41 &  72.58 & conventional & 2015 & Albany\\\\\n",
       "\t5 & 4 & 1.28 &  51039.60 &  941.48 &  43838.39 &  75.78 & conventional & 2015 & Albany\\\\\n",
       "\t6 & 5 & 1.26 &  55979.78 & 1184.27 &  48067.99 &  43.61 & conventional & 2015 & Albany\\\\\n",
       "\\end{tabular}\n"
      ],
      "text/markdown": [
       "\n",
       "A data.frame: 6 × 9\n",
       "\n",
       "| <!--/--> | X &lt;int&gt; | average_price &lt;dbl&gt; | total_volume &lt;dbl&gt; | PLU4046 &lt;dbl&gt; | PLU4225 &lt;dbl&gt; | PLU4770 &lt;dbl&gt; | type &lt;chr&gt; | year &lt;int&gt; | region &lt;chr&gt; |\n",
       "|---|---|---|---|---|---|---|---|---|---|\n",
       "| 1 | 0 | 1.33 |  64236.62 | 1036.74 |  54454.85 |  48.16 | conventional | 2015 | Albany |\n",
       "| 2 | 1 | 1.35 |  54876.98 |  674.28 |  44638.81 |  58.33 | conventional | 2015 | Albany |\n",
       "| 3 | 2 | 0.93 | 118220.22 |  794.70 | 109149.67 | 130.50 | conventional | 2015 | Albany |\n",
       "| 4 | 3 | 1.08 |  78992.15 | 1132.00 |  71976.41 |  72.58 | conventional | 2015 | Albany |\n",
       "| 5 | 4 | 1.28 |  51039.60 |  941.48 |  43838.39 |  75.78 | conventional | 2015 | Albany |\n",
       "| 6 | 5 | 1.26 |  55979.78 | 1184.27 |  48067.99 |  43.61 | conventional | 2015 | Albany |\n",
       "\n"
      ],
      "text/plain": [
       "  X average_price total_volume PLU4046 PLU4225   PLU4770 type         year\n",
       "1 0 1.33           64236.62    1036.74  54454.85  48.16  conventional 2015\n",
       "2 1 1.35           54876.98     674.28  44638.81  58.33  conventional 2015\n",
       "3 2 0.93          118220.22     794.70 109149.67 130.50  conventional 2015\n",
       "4 3 1.08           78992.15    1132.00  71976.41  72.58  conventional 2015\n",
       "5 4 1.28           51039.60     941.48  43838.39  75.78  conventional 2015\n",
       "6 5 1.26           55979.78    1184.27  48067.99  43.61  conventional 2015\n",
       "  region\n",
       "1 Albany\n",
       "2 Albany\n",
       "3 Albany\n",
       "4 Albany\n",
       "5 Albany\n",
       "6 Albany"
      ]
     },
     "metadata": {},
     "output_type": "display_data"
    }
   ],
   "source": [
    "cat(\"Liczba obserwacji: \", nrow(data), \"\\n\")\n",
    "cat(\"Liczba zmiennych: \", ncol(data), \"\\n\")\n",
    "\n",
    "head(data)"
   ]
  },
  {
   "cell_type": "markdown",
   "id": "difficult-circulation",
   "metadata": {},
   "source": [
    "W celu analizy zmiennych numerycznych stworzyłam oddzielny arkusz danych jedynie z danymi wyrażonymi na skali ilorazowej. Obliczyłam dla nich następujące statystyki:"
   ]
  },
  {
   "cell_type": "code",
   "execution_count": 7,
   "id": "respiratory-quarter",
   "metadata": {},
   "outputs": [
    {
     "data": {
      "text/html": [
       "<table class=\"dataframe\">\n",
       "<caption>A data.frame: 7 × 5</caption>\n",
       "<thead>\n",
       "\t<tr><th></th><th scope=col>average_price</th><th scope=col>total_volume</th><th scope=col>PLU4046</th><th scope=col>PLU4225</th><th scope=col>PLU4770</th></tr>\n",
       "\t<tr><th></th><th scope=col>&lt;dbl&gt;</th><th scope=col>&lt;dbl&gt;</th><th scope=col>&lt;dbl&gt;</th><th scope=col>&lt;dbl&gt;</th><th scope=col>&lt;dbl&gt;</th></tr>\n",
       "</thead>\n",
       "<tbody>\n",
       "\t<tr><th scope=row>Minimum</th><td>0.440</td><td>8.456000e+01</td><td>0.000000e+00</td><td>0.000000e+00</td><td>0.000000e+00</td></tr>\n",
       "\t<tr><th scope=row>Maksimum</th><td>3.250</td><td>6.250565e+07</td><td>2.274362e+07</td><td>2.047057e+07</td><td>2.546439e+06</td></tr>\n",
       "\t<tr><th scope=row>Rozstęp</th><td>2.810</td><td>6.250556e+07</td><td>2.274362e+07</td><td>2.047057e+07</td><td>2.546439e+06</td></tr>\n",
       "\t<tr><th scope=row>Mediana</th><td>1.370</td><td>1.073768e+05</td><td>8.645300e+03</td><td>2.906102e+04</td><td>1.849900e+02</td></tr>\n",
       "\t<tr><th scope=row>Średnia</th><td>1.406</td><td>8.506440e+05</td><td>2.930084e+05</td><td>2.951546e+05</td><td>2.283974e+04</td></tr>\n",
       "\t<tr><th scope=row>Odchylenie standardowe</th><td>0.402</td><td>3.453545e+06</td><td>1.264989e+06</td><td>1.204120e+06</td><td>1.074641e+05</td></tr>\n",
       "\t<tr><th scope=row>Wariancja</th><td>0.162</td><td>1.192698e+13</td><td>1.600197e+12</td><td>1.449906e+12</td><td>1.154853e+10</td></tr>\n",
       "</tbody>\n",
       "</table>\n"
      ],
      "text/latex": [
       "A data.frame: 7 × 5\n",
       "\\begin{tabular}{r|lllll}\n",
       "  & average\\_price & total\\_volume & PLU4046 & PLU4225 & PLU4770\\\\\n",
       "  & <dbl> & <dbl> & <dbl> & <dbl> & <dbl>\\\\\n",
       "\\hline\n",
       "\tMinimum & 0.440 & 8.456000e+01 & 0.000000e+00 & 0.000000e+00 & 0.000000e+00\\\\\n",
       "\tMaksimum & 3.250 & 6.250565e+07 & 2.274362e+07 & 2.047057e+07 & 2.546439e+06\\\\\n",
       "\tRozstęp & 2.810 & 6.250556e+07 & 2.274362e+07 & 2.047057e+07 & 2.546439e+06\\\\\n",
       "\tMediana & 1.370 & 1.073768e+05 & 8.645300e+03 & 2.906102e+04 & 1.849900e+02\\\\\n",
       "\tŚrednia & 1.406 & 8.506440e+05 & 2.930084e+05 & 2.951546e+05 & 2.283974e+04\\\\\n",
       "\tOdchylenie standardowe & 0.402 & 3.453545e+06 & 1.264989e+06 & 1.204120e+06 & 1.074641e+05\\\\\n",
       "\tWariancja & 0.162 & 1.192698e+13 & 1.600197e+12 & 1.449906e+12 & 1.154853e+10\\\\\n",
       "\\end{tabular}\n"
      ],
      "text/markdown": [
       "\n",
       "A data.frame: 7 × 5\n",
       "\n",
       "| <!--/--> | average_price &lt;dbl&gt; | total_volume &lt;dbl&gt; | PLU4046 &lt;dbl&gt; | PLU4225 &lt;dbl&gt; | PLU4770 &lt;dbl&gt; |\n",
       "|---|---|---|---|---|---|\n",
       "| Minimum | 0.440 | 8.456000e+01 | 0.000000e+00 | 0.000000e+00 | 0.000000e+00 |\n",
       "| Maksimum | 3.250 | 6.250565e+07 | 2.274362e+07 | 2.047057e+07 | 2.546439e+06 |\n",
       "| Rozstęp | 2.810 | 6.250556e+07 | 2.274362e+07 | 2.047057e+07 | 2.546439e+06 |\n",
       "| Mediana | 1.370 | 1.073768e+05 | 8.645300e+03 | 2.906102e+04 | 1.849900e+02 |\n",
       "| Średnia | 1.406 | 8.506440e+05 | 2.930084e+05 | 2.951546e+05 | 2.283974e+04 |\n",
       "| Odchylenie standardowe | 0.402 | 3.453545e+06 | 1.264989e+06 | 1.204120e+06 | 1.074641e+05 |\n",
       "| Wariancja | 0.162 | 1.192698e+13 | 1.600197e+12 | 1.449906e+12 | 1.154853e+10 |\n",
       "\n"
      ],
      "text/plain": [
       "                       average_price total_volume PLU4046      PLU4225     \n",
       "Minimum                0.440         8.456000e+01 0.000000e+00 0.000000e+00\n",
       "Maksimum               3.250         6.250565e+07 2.274362e+07 2.047057e+07\n",
       "Rozstęp                2.810         6.250556e+07 2.274362e+07 2.047057e+07\n",
       "Mediana                1.370         1.073768e+05 8.645300e+03 2.906102e+04\n",
       "Średnia                1.406         8.506440e+05 2.930084e+05 2.951546e+05\n",
       "Odchylenie standardowe 0.402         3.453545e+06 1.264989e+06 1.204120e+06\n",
       "Wariancja              0.162         1.192698e+13 1.600197e+12 1.449906e+12\n",
       "                       PLU4770     \n",
       "Minimum                0.000000e+00\n",
       "Maksimum               2.546439e+06\n",
       "Rozstęp                2.546439e+06\n",
       "Mediana                1.849900e+02\n",
       "Średnia                2.283974e+04\n",
       "Odchylenie standardowe 1.074641e+05\n",
       "Wariancja              1.154853e+10"
      ]
     },
     "metadata": {},
     "output_type": "display_data"
    }
   ],
   "source": [
    "descriptive_statistics <- data.frame(row.names = c('Minimum', 'Maksimum', 'Rozstęp', 'Mediana', 'Średnia', 'Odchylenie standardowe', 'Wariancja'))\n",
    "\n",
    "for (item in colnames(data2)) {\n",
    "    x <- data2[, item]    \n",
    "    min <- round(min(x), 3)\n",
    "    max <- round(max(x), 3)\n",
    "    range <- max - min\n",
    "    median <- round(median(x),3)\n",
    "    mean <- round(mean(x), 3)\n",
    "    variance <- round(var(x), 3)\n",
    "    standard_deviation <- round(sqrt(variance), 3)\n",
    "        \n",
    "    descriptive_statistics[, item] <- c(min, max, range, median, mean, standard_deviation, variance)\n",
    "}\n",
    "\n",
    "descriptive_statistics"
   ]
  },
  {
   "cell_type": "markdown",
   "id": "banner-majority",
   "metadata": {},
   "source": [
    "Zmienną, która jest kluczowa dla tego raportu jest _Average Price_ - średnia cena. Jej mediana oraz średnia mają bliskie sobie wartości, co świadczy o małej ilości obserwacji odstających. Na podstawie tych danych mogę stwierdzić, że wykres będzie symetryczny. \n",
    "\n",
    "Dla zmiennej _Total Volume_, która opisuje całkowitą liczbę sprzedanych sztuk awokado, średnia jest znacznie większa niż mediana, co sugeruje występowanie asymetrii prawostronnej. \n",
    "\n",
    "Zmienne opisujące sprzedaż owoców z konkretnymi kodami PLU mają w większości różniące się wyniki, ale dla każdego z nich wartość mediany jest niższa od wartości średniej, więc rozkład będzie dodatnio skośny (asymetria prawostronna). "
   ]
  },
  {
   "cell_type": "markdown",
   "id": "registered-shell",
   "metadata": {},
   "source": [
    "#### Porównanie sprzedaży oraz cen w zależności od typu awokado. "
   ]
  },
  {
   "cell_type": "code",
   "execution_count": 8,
   "id": "registered-hygiene",
   "metadata": {},
   "outputs": [
    {
     "data": {
      "image/png": "[encoded data removed]",
      "text/plain": [
       "plot without title"
      ]
     },
     "metadata": {
      "image/png": {
       "height": 420,
       "width": 900
      }
     },
     "output_type": "display_data"
    }
   ],
   "source": [
    "options(repr.plot.width=15, repr.plot.height=7)\n",
    "ggplot(data, aes(x=average_price, fill=type)) + \n",
    "    geom_density() + \n",
    "    facet_grid(~type)"
   ]
  },
  {
   "cell_type": "markdown",
   "id": "tropical-matthew",
   "metadata": {},
   "source": [
    "Rozkład dla średnich cen tradycyjnego awokado jest unimodalny oraz w przybliżeniu symetryczny.\n",
    "Rozkład dla cen organicznego awokado jest bardziej przesunięty w prawo względem tradycyjnego, więc ceny awokado organicznego będą statystycznie wyższe. Zmienna dla awokado organicznego charakteryzuje się również większym odchyleniem standardowym ze względu na większe spłaszczenie wybrzuszenia.  "
   ]
  },
  {
   "cell_type": "code",
   "execution_count": 9,
   "id": "governmental-wound",
   "metadata": {},
   "outputs": [
    {
     "data": {
      "image/png": "[encoded data removed]",
      "text/plain": [
       "plot without title"
      ]
     },
     "metadata": {
      "image/png": {
       "height": 420,
       "width": 600
      }
     },
     "output_type": "display_data"
    }
   ],
   "source": [
    "options(repr.plot.width=10, repr.plot.height=7)\n",
    "ggplot(data, aes(type, average_price))+ \n",
    "    geom_boxplot(aes(colour = type))+ \n",
    "    labs(colour = \"Typ\", x = \"Typ\", y =\"Średnia cena\", title = \"Średnia cena awokado w zależności od typu\")"
   ]
  },
  {
   "cell_type": "markdown",
   "id": "spectacular-profit",
   "metadata": {},
   "source": [
    "Te same dane przedstawione w inny sposób. Wykres pudełkowy wyraźnie przedstawia wyższą cenę owocu organicznego. "
   ]
  },
  {
   "cell_type": "code",
   "execution_count": 10,
   "id": "dimensional-vertical",
   "metadata": {},
   "outputs": [
    {
     "data": {
      "text/html": [
       "<table class=\"dataframe\">\n",
       "<caption>A matrix: 3 × 2 of type dbl</caption>\n",
       "<thead>\n",
       "\t<tr><th></th><th scope=col>Standardowe</th><th scope=col>Organiczne</th></tr>\n",
       "</thead>\n",
       "<tbody>\n",
       "\t<tr><th scope=row>Średnia</th><td>1.15803967</td><td>1.6539987</td></tr>\n",
       "\t<tr><th scope=row>Mediana</th><td>1.13000000</td><td>1.6300000</td></tr>\n",
       "\t<tr><th scope=row>Wariancja</th><td>0.06919036</td><td>0.1321334</td></tr>\n",
       "</tbody>\n",
       "</table>\n"
      ],
      "text/latex": [
       "A matrix: 3 × 2 of type dbl\n",
       "\\begin{tabular}{r|ll}\n",
       "  & Standardowe & Organiczne\\\\\n",
       "\\hline\n",
       "\tŚrednia & 1.15803967 & 1.6539987\\\\\n",
       "\tMediana & 1.13000000 & 1.6300000\\\\\n",
       "\tWariancja & 0.06919036 & 0.1321334\\\\\n",
       "\\end{tabular}\n"
      ],
      "text/markdown": [
       "\n",
       "A matrix: 3 × 2 of type dbl\n",
       "\n",
       "| <!--/--> | Standardowe | Organiczne |\n",
       "|---|---|---|\n",
       "| Średnia | 1.15803967 | 1.6539987 |\n",
       "| Mediana | 1.13000000 | 1.6300000 |\n",
       "| Wariancja | 0.06919036 | 0.1321334 |\n",
       "\n"
      ],
      "text/plain": [
       "          Standardowe Organiczne\n",
       "Średnia   1.15803967  1.6539987 \n",
       "Mediana   1.13000000  1.6300000 \n",
       "Wariancja 0.06919036  0.1321334 "
      ]
     },
     "metadata": {},
     "output_type": "display_data"
    }
   ],
   "source": [
    "avocado_conventional <- data[data$type == 'conventional', ]\n",
    "avocado_organic <- data[data$type == 'organic', ]\n",
    "\n",
    "\n",
    "comparison <- matrix(c(mean(avocado_conventional$average_price), mean(avocado_organic$average_price),\n",
    "                    median(avocado_conventional$average_price), median(avocado_organic$average_price),\n",
    "                    var(avocado_conventional$average_price), var(avocado_organic$average_price)), ncol = 2, byrow = TRUE)\n",
    "\n",
    "colnames(comparison) <- c('Standardowe', 'Organiczne')\n",
    "rownames(comparison) <- c('Średnia', 'Mediana', 'Wariancja')\n",
    "\n",
    "comparison"
   ]
  },
  {
   "cell_type": "markdown",
   "id": "another-alabama",
   "metadata": {},
   "source": [
    "Dane w tabeli są potwierdzeniem na powyższe stwierdzenia związane z porównaniem cen w zależności od typu."
   ]
  },
  {
   "cell_type": "code",
   "execution_count": 11,
   "id": "terminal-award",
   "metadata": {},
   "outputs": [
    {
     "data": {
      "image/png": "[encoded data removed]",
      "text/plain": [
       "Plot with title \"Liczba danych\""
      ]
     },
     "metadata": {
      "image/png": {
       "height": 420,
       "width": 600
      }
     },
     "output_type": "display_data"
    },
    {
     "data": {
      "image/png": "[encoded data removed]",
      "text/plain": [
       "Plot with title \"Sprzedaż w zależności od typu awokado\""
      ]
     },
     "metadata": {
      "image/png": {
       "height": 420,
       "width": 600
      }
     },
     "output_type": "display_data"
    }
   ],
   "source": [
    "pie_types_values <- c(mean(avocado_conventional$total_volume), mean(avocado_organic$total_volume))\n",
    "pie_types_labels <- c('Standardowe', 'Organiczne')\n",
    "\n",
    "pie(c(nrow(avocado_conventional), nrow(avocado_organic)) , pie_types_labels, main = 'Liczba danych')\n",
    "pie(pie_types_values, pie_types_labels, main = 'Sprzedaż w zależności od typu awokado')"
   ]
  },
  {
   "cell_type": "markdown",
   "id": "fifteen-lawsuit",
   "metadata": {},
   "source": [
    "Liczba danych odnośnie awokado organicznego jest porównywalna do tradycyjnego. Co ciekawe, ponad 98% sprzedaży stanowi awokado tradycyjne. "
   ]
  },
  {
   "cell_type": "markdown",
   "id": "controlling-moscow",
   "metadata": {},
   "source": [
    "#### Korelacja zmiennych:"
   ]
  },
  {
   "cell_type": "code",
   "execution_count": 12,
   "id": "quarterly-rebate",
   "metadata": {},
   "outputs": [
    {
     "data": {
      "image/png": "[encoded data removed]",
      "text/plain": [
       "plot without title"
      ]
     },
     "metadata": {
      "image/png": {
       "height": 420,
       "width": 600
      }
     },
     "output_type": "display_data"
    }
   ],
   "source": [
    "ggcorr(data2, method = c(\"everything\", \"pearson\"))"
   ]
  },
  {
   "cell_type": "markdown",
   "id": "educational-washington",
   "metadata": {},
   "source": [
    "Wykres korelacji pokazuje, że zmienne opisujące sprzedaż są ze sobą bardzo silnie skorelowane. Zmienna average_price nie jest skorelowana z żadną inną zmienną. "
   ]
  },
  {
   "cell_type": "markdown",
   "id": "amended-plymouth",
   "metadata": {},
   "source": [
    "## Szereg rozdzielczy\n",
    "\n",
    "Konstrukcja szeregu rozdzielczego dla zmiennej opisującej średnią cenę awokado. \n",
    "\n",
    "Liczbę przedziałów obliczyłam ze wzoru: $k \\approx 1 + 3.22 log(n) $ \n",
    "\n",
    "Następnie do obliczenia szerokości przedziału zastosowałam wzór: $h \\approx \\displaystyle\\frac{x_{max} - x_{min}}{k} $"
   ]
  },
  {
   "cell_type": "code",
   "execution_count": 13,
   "id": "forced-inspiration",
   "metadata": {},
   "outputs": [
    {
     "name": "stdout",
     "output_type": "stream",
     "text": [
      "Liczba obserwacji:     18249 \n",
      "Liczba przedziałów:    33 \n",
      "Szerokość przedziału:  0.085 \n"
     ]
    },
    {
     "data": {
      "text/plain": [
       "\n",
       "(0.437,0.525]  (0.525,0.61]  (0.61,0.695] (0.695,0.781] (0.781,0.866] \n",
       "           13            79           137           412           550 \n",
       "(0.866,0.951]  (0.951,1.04]   (1.04,1.12]   (1.12,1.21]   (1.21,1.29] \n",
       "          941          1329          1539          1458          1478 \n",
       "  (1.29,1.38]   (1.38,1.46]   (1.46,1.55]   (1.55,1.63]   (1.63,1.72] \n",
       "         1248          1458          1337          1339           991 \n",
       "   (1.72,1.8]    (1.8,1.89]   (1.89,1.97]   (1.97,2.06]   (2.06,2.14] \n",
       "          949           817           631           390           342 \n",
       "  (2.14,2.23]   (2.23,2.31]    (2.31,2.4]    (2.4,2.48]   (2.48,2.57] \n",
       "          213           171           140            73            46 \n",
       "  (2.57,2.65]   (2.65,2.74]   (2.74,2.82]   (2.82,2.91]   (2.91,2.99] \n",
       "           60            31            27            28            14 \n",
       "  (2.99,3.08]   (3.08,3.16]   (3.16,3.25] \n",
       "            5             1             2 "
      ]
     },
     "metadata": {},
     "output_type": "display_data"
    }
   ],
   "source": [
    "average_price <- data$average_price\n",
    "\n",
    "n = length(average_price)\n",
    "R = max(average_price) - min(average_price)\n",
    "k = round( 1 + 3.22 * log(n))\n",
    "h = round(R/k, 3)\n",
    "\n",
    "cat('Liczba obserwacji:    ', n, '\\n')\n",
    "cat('Liczba przedziałów:   ', k, '\\n')\n",
    "cat('Szerokość przedziału: ', h, '\\n')\n",
    "\n",
    "table(cut(average_price, breaks = k))\n",
    "options(repr.plot.width=15, repr.plot.height=7)"
   ]
  },
  {
   "cell_type": "markdown",
   "id": "conceptual-rwanda",
   "metadata": {},
   "source": [
    "Histogram dla obliczonej wyżej szerokości przedziału:"
   ]
  },
  {
   "cell_type": "code",
   "execution_count": 14,
   "id": "dedicated-turkey",
   "metadata": {},
   "outputs": [
    {
     "data": {
      "image/png": "[encoded data removed]",
      "text/plain": [
       "plot without title"
      ]
     },
     "metadata": {
      "image/png": {
       "height": 420,
       "width": 900
      }
     },
     "output_type": "display_data"
    }
   ],
   "source": [
    "ggplot(data, aes(x=average_price))+\n",
    "    geom_histogram(color=\"darkblue\", fill=\"lightblue\", binwidth = h)"
   ]
  },
  {
   "cell_type": "markdown",
   "id": "compliant-immigration",
   "metadata": {},
   "source": [
    "## Próba statystyczna\n",
    "\n",
    "Za pomocą poniższej komendy stworzyłam próbkę generowaną losowo o wielkości 100 rekordów. "
   ]
  },
  {
   "cell_type": "code",
   "execution_count": 15,
   "id": "under-mississippi",
   "metadata": {},
   "outputs": [],
   "source": [
    "data_sample = data2[sample(0:nrow(data2), 100), ]"
   ]
  },
  {
   "cell_type": "markdown",
   "id": "referenced-chaos",
   "metadata": {},
   "source": [
    "Obliczę teraz podstawowe statystyki opisowe dla próbki losowej: "
   ]
  },
  {
   "cell_type": "code",
   "execution_count": 33,
   "id": "precise-portland",
   "metadata": {},
   "outputs": [
    {
     "data": {
      "text/html": [
       "<table class=\"dataframe\">\n",
       "<caption>A data.frame: 7 × 5</caption>\n",
       "<thead>\n",
       "\t<tr><th></th><th scope=col>average_price</th><th scope=col>total_volume</th><th scope=col>PLU4046</th><th scope=col>PLU4225</th><th scope=col>PLU4770</th></tr>\n",
       "\t<tr><th></th><th scope=col>&lt;dbl&gt;</th><th scope=col>&lt;dbl&gt;</th><th scope=col>&lt;dbl&gt;</th><th scope=col>&lt;dbl&gt;</th><th scope=col>&lt;dbl&gt;</th></tr>\n",
       "</thead>\n",
       "<tbody>\n",
       "\t<tr><th scope=row>Minimum</th><td>0.600</td><td>8.106100e+02</td><td>0.000000e+00</td><td>4.194000e+01</td><td>0.000000e+00</td></tr>\n",
       "\t<tr><th scope=row>Maksimum</th><td>2.390</td><td>3.205159e+07</td><td>1.104213e+07</td><td>9.774988e+06</td><td>4.002510e+05</td></tr>\n",
       "\t<tr><th scope=row>Rozstęp</th><td>1.790</td><td>3.205078e+07</td><td>1.104213e+07</td><td>9.774946e+06</td><td>4.002510e+05</td></tr>\n",
       "\t<tr><th scope=row>Mediana</th><td>1.395</td><td>1.784536e+05</td><td>1.447356e+04</td><td>5.400032e+04</td><td>4.737350e+02</td></tr>\n",
       "\t<tr><th scope=row>Średnia</th><td>1.387</td><td>1.111523e+06</td><td>3.954665e+05</td><td>3.561903e+05</td><td>2.404352e+04</td></tr>\n",
       "\t<tr><th scope=row>Odchylenie standardowe</th><td>0.421</td><td>3.538574e+06</td><td>1.301858e+06</td><td>1.073812e+06</td><td>5.879244e+04</td></tr>\n",
       "\t<tr><th scope=row>Wariancja</th><td>0.177</td><td>1.252151e+13</td><td>1.694834e+12</td><td>1.153072e+12</td><td>3.456551e+09</td></tr>\n",
       "</tbody>\n",
       "</table>\n"
      ],
      "text/latex": [
       "A data.frame: 7 × 5\n",
       "\\begin{tabular}{r|lllll}\n",
       "  & average\\_price & total\\_volume & PLU4046 & PLU4225 & PLU4770\\\\\n",
       "  & <dbl> & <dbl> & <dbl> & <dbl> & <dbl>\\\\\n",
       "\\hline\n",
       "\tMinimum & 0.600 & 8.106100e+02 & 0.000000e+00 & 4.194000e+01 & 0.000000e+00\\\\\n",
       "\tMaksimum & 2.390 & 3.205159e+07 & 1.104213e+07 & 9.774988e+06 & 4.002510e+05\\\\\n",
       "\tRozstęp & 1.790 & 3.205078e+07 & 1.104213e+07 & 9.774946e+06 & 4.002510e+05\\\\\n",
       "\tMediana & 1.395 & 1.784536e+05 & 1.447356e+04 & 5.400032e+04 & 4.737350e+02\\\\\n",
       "\tŚrednia & 1.387 & 1.111523e+06 & 3.954665e+05 & 3.561903e+05 & 2.404352e+04\\\\\n",
       "\tOdchylenie standardowe & 0.421 & 3.538574e+06 & 1.301858e+06 & 1.073812e+06 & 5.879244e+04\\\\\n",
       "\tWariancja & 0.177 & 1.252151e+13 & 1.694834e+12 & 1.153072e+12 & 3.456551e+09\\\\\n",
       "\\end{tabular}\n"
      ],
      "text/markdown": [
       "\n",
       "A data.frame: 7 × 5\n",
       "\n",
       "| <!--/--> | average_price &lt;dbl&gt; | total_volume &lt;dbl&gt; | PLU4046 &lt;dbl&gt; | PLU4225 &lt;dbl&gt; | PLU4770 &lt;dbl&gt; |\n",
       "|---|---|---|---|---|---|\n",
       "| Minimum | 0.600 | 8.106100e+02 | 0.000000e+00 | 4.194000e+01 | 0.000000e+00 |\n",
       "| Maksimum | 2.390 | 3.205159e+07 | 1.104213e+07 | 9.774988e+06 | 4.002510e+05 |\n",
       "| Rozstęp | 1.790 | 3.205078e+07 | 1.104213e+07 | 9.774946e+06 | 4.002510e+05 |\n",
       "| Mediana | 1.395 | 1.784536e+05 | 1.447356e+04 | 5.400032e+04 | 4.737350e+02 |\n",
       "| Średnia | 1.387 | 1.111523e+06 | 3.954665e+05 | 3.561903e+05 | 2.404352e+04 |\n",
       "| Odchylenie standardowe | 0.421 | 3.538574e+06 | 1.301858e+06 | 1.073812e+06 | 5.879244e+04 |\n",
       "| Wariancja | 0.177 | 1.252151e+13 | 1.694834e+12 | 1.153072e+12 | 3.456551e+09 |\n",
       "\n"
      ],
      "text/plain": [
       "                       average_price total_volume PLU4046      PLU4225     \n",
       "Minimum                0.600         8.106100e+02 0.000000e+00 4.194000e+01\n",
       "Maksimum               2.390         3.205159e+07 1.104213e+07 9.774988e+06\n",
       "Rozstęp                1.790         3.205078e+07 1.104213e+07 9.774946e+06\n",
       "Mediana                1.395         1.784536e+05 1.447356e+04 5.400032e+04\n",
       "Średnia                1.387         1.111523e+06 3.954665e+05 3.561903e+05\n",
       "Odchylenie standardowe 0.421         3.538574e+06 1.301858e+06 1.073812e+06\n",
       "Wariancja              0.177         1.252151e+13 1.694834e+12 1.153072e+12\n",
       "                       PLU4770     \n",
       "Minimum                0.000000e+00\n",
       "Maksimum               4.002510e+05\n",
       "Rozstęp                4.002510e+05\n",
       "Mediana                4.737350e+02\n",
       "Średnia                2.404352e+04\n",
       "Odchylenie standardowe 5.879244e+04\n",
       "Wariancja              3.456551e+09"
      ]
     },
     "metadata": {},
     "output_type": "display_data"
    }
   ],
   "source": [
    "descriptive_statistics_sample <- data.frame(row.names = c('Minimum', 'Maksimum', 'Rozstęp', 'Mediana', 'Średnia', 'Odchylenie standardowe', 'Wariancja'))\n",
    "\n",
    "for (item in colnames(data_sample)) {\n",
    "    x <- data_sample[, item]    \n",
    "    min <- round(min(x), 3)\n",
    "    max <- round(max(x), 3)\n",
    "    range <- max - min\n",
    "    median <- round(median(x),3)\n",
    "    mean <- round(mean(x), 3)\n",
    "    variance <- round(var(x), 3)\n",
    "    standard_deviation <- round(sqrt(variance), 3)\n",
    "        \n",
    "    descriptive_statistics_sample[, item] <- c(min, max, range, median, mean, standard_deviation, variance)\n",
    "}\n",
    "\n",
    "descriptive_statistics_sample"
   ]
  },
  {
   "cell_type": "markdown",
   "id": "promotional-cambodia",
   "metadata": {},
   "source": [
    "## Test statystyczny\n",
    "\n",
    "**Czy średnia cena awokado jest niższa niż 1.5?** \n",
    "\n",
    "Ze względu na dużą próbę oraz znaną wariancję użyję **testu Z**. Zakładam, że rozkład jest normalny.  \n",
    "Będzie to lewostronny test na poziomie istotności $\\alpha = 0.05$. \n",
    "\n",
    "$H_0$: $\\mu = 1.5$ <br>\n",
    "$H_1$: $\\mu < 1.5$\n",
    "\n",
    "Wzór na statystykę:     $Z = \\displaystyle\\frac{\\bar{X}-\\mu_{0}}{\\frac{\\sigma}{\\sqrt{n}}}$\n",
    "\n",
    "<!-- wybrany test statystyczny wraz z przyjętymi założeniami/sprawdzeniem założeń i uzasadnieniem wyboru danego testu, hipotezę badawczą, układ hipotez statystycznych do zweryfikowania, przyjęty poziom istotności, wartość statystyki testowej, decyzję o hipotezach i komentarz. -->"
   ]
  },
  {
   "cell_type": "code",
   "execution_count": 35,
   "id": "noted-identifier",
   "metadata": {},
   "outputs": [
    {
     "name": "stdout",
     "output_type": "stream",
     "text": [
      "Przedział krytyczny: ( -inf ; -1.645 ) \n",
      "Wartość statystyki:      -2.811 \n",
      "\n",
      "Wartość statystyki zawiera się w obszarze krytycznym, dlatego należy odrzucić hipotezę zerową na rzecz hipotezy alternatywnej. \n",
      "Średnia cena awokado jest niższa niż 1.5 \n"
     ]
    }
   ],
   "source": [
    "alpha <- 0.05\n",
    "mi <- 1.5\n",
    "\n",
    "z_average_price = (mean(data_sample$average_price) - mi) / sqrt(var(data$average_price) / length(data_sample$average_price))\n",
    "\n",
    "z_kr <- qnorm(alpha)\n",
    "\n",
    "cat('Przedział krytyczny: ( -inf ;', round(z_kr, 3), ') \\n')\n",
    "cat('Wartość statystyki:     ', round(z_average_price, 3) ,'\\n\\n')\n",
    "\n",
    "if(z_average_price < z_kr){\n",
    "    cat('Wartość statystyki zawiera się w obszarze krytycznym, dlatego należy odrzucić hipotezę zerową na rzecz hipotezy alternatywnej. \\nŚrednia cena awokado jest niższa niż', mi, '\\n')\n",
    "}else{\n",
    "    cat('Wartość statystyki nie zawiera się w obszarze krytycznym, dlatego nie ma podstaw do odrzucenia hipotezy zerowej. \\nŚrednia cena awokado nie jest niższa niż', mi, '\\n')\n",
    "}"
   ]
  },
  {
   "cell_type": "code",
   "execution_count": 65,
   "id": "modern-present",
   "metadata": {},
   "outputs": [],
   "source": [
    "# z.test(data_sample$average_price, alternative=\"less\", mu=1.5, sqrt(var(data$average_price)), conf.level = .95)\n",
    "\n",
    "# one.sample.z(data = data_sample$average_price, null.mu = 1.5, sigma = sqrt(var(data$average_price)), alternative=\"less\", conf = 0.95)\n",
    "\n",
    "# sqrt(var(data$average_price))\n",
    "# sqrt(var(data_sample$average_price))"
   ]
  },
  {
   "cell_type": "markdown",
   "id": "through-intersection",
   "metadata": {},
   "source": [
    "<br>\n",
    "\n",
    "---\n",
    "\n",
    "## Bibliografia\n",
    "<ul><li>kaggle.com - Avocado Prices <a href=\"https://www.kaggle.com/neuromusic/avocado-prices\">[Link]</a></li></ul>"
   ]
  }
 ],
 "metadata": {
  "kernelspec": {
   "display_name": "Python 3 (ipykernel)",
   "language": "python",
   "name": "python3"
  },
  "language_info": {
   "codemirror_mode": {
    "name": "ipython",
    "version": 3
   },
   "file_extension": ".py",
   "mimetype": "text/x-python",
   "name": "python",
   "nbconvert_exporter": "python",
   "pygments_lexer": "ipython3",
   "version": "3.10.2"
  }
 },
 "nbformat": 4,
 "nbformat_minor": 5
}
